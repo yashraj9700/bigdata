def hash_value(x, a, b, m):
    # Hash function: (a*x + b) mod m
    return (a * x + b) % m

def tail_length(bin_str):
    # Find the length of trailing zeros in the binary representation of the hash value
    return len(bin_str) - len(bin_str.rstrip('0'))

def flajolet_martin(stream, a, b, m):
    max_tail_length = 0
    tail_lengths = []  # List to store tail lengths for each element

    for element in stream:
        # Hash the element and convert to binary
        hash_val = hash_value(element, a, b, m)
        bin_hash = format(hash_val, 'b').zfill(len(bin(hash_val)[2:]))  # Convert to binary and pad with zeros

        # Calculate the tail length of the binary hash
        t_len = tail_length(bin_hash)
        tail_lengths.append((element, hash_val, bin_hash, t_len))  # Store element, hash, and tail length

        # Keep track of the maximum tail length
        max_tail_length = max(max_tail_length, t_len)

    # Print the tail lengths
    for elem, h_val, bin_h, t_len in tail_lengths:
        print(f"Element: {elem}, Hash: {h_val}, Binary Hash: {bin_h}, Tail Length: {t_len}")

    # Estimate the number of distinct elements
    return 2 ** max_tail_length

# Example usage
stream = [3, 1, 4, 1, 5, 9, 2, 6, 5]

# Use hash function 3x + 7 mod 32
a1, b1, m1 = 3, 7, 32
estimate1 = flajolet_martin(stream, a1, b1, m1)
print(f"\nEstimated number of distinct elements with hash function 3x + 7 mod 32: {estimate1}")

# Use hash function 2x + 1 mod 32
a2, b2, m2 = 2, 1, 32
estimate2 = flajolet_martin(stream, a2, b2, m2)
print(f"\nEstimated number of distinct elements with hash function 2x + 1 mod 32: {estimate2}")
